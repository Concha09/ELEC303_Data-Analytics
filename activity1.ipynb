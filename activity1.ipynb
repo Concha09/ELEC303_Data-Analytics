{
 "cells": [
  {
   "cell_type": "markdown",
   "id": "6ade9ef2-d40b-4f7d-bea6-4ebc71e2602e",
   "metadata": {},
   "source": [
    "<h1>ACTIVITY 1 - PALMER PENGUINS DATA ANALYTICS PROJECT\n",
    "</h1>"
   ]
  },
  {
   "cell_type": "markdown",
   "id": "2e76e03b-9b8a-4db5-81e4-4485c63ccd74",
   "metadata": {},
   "source": [
    "<hr>"
   ]
  },
  {
   "cell_type": "markdown",
   "id": "599ba3be-b5fd-46bb-858f-325ec47e167f",
   "metadata": {},
   "source": [
    "<h2>Analyst: Alanis Danica Pura Concha</h2>"
   ]
  },
  {
   "cell_type": "code",
   "execution_count": 1,
   "id": "1fb70fda-d2b3-4bd4-9e8f-96804b622cd5",
   "metadata": {},
   "outputs": [],
   "source": [
    "import numpy as np\n",
    "import pandas as pd"
   ]
  },
  {
   "cell_type": "code",
   "execution_count": 2,
   "id": "ad7c93e8-abfb-4e54-b449-695f39211e62",
   "metadata": {},
   "outputs": [],
   "source": [
    "penguin = pd.read_csv('datasets\\\\penguins.csv')"
   ]
  },
  {
   "cell_type": "code",
   "execution_count": 3,
   "id": "bc6a5acb-cd26-4c76-8a7f-eb3cb08baa8a",
   "metadata": {},
   "outputs": [
    {
     "data": {
      "text/html": [
       "<div>\n",
       "<style scoped>\n",
       "    .dataframe tbody tr th:only-of-type {\n",
       "        vertical-align: middle;\n",
       "    }\n",
       "\n",
       "    .dataframe tbody tr th {\n",
       "        vertical-align: top;\n",
       "    }\n",
       "\n",
       "    .dataframe thead th {\n",
       "        text-align: right;\n",
       "    }\n",
       "</style>\n",
       "<table border=\"1\" class=\"dataframe\">\n",
       "  <thead>\n",
       "    <tr style=\"text-align: right;\">\n",
       "      <th></th>\n",
       "      <th>species</th>\n",
       "      <th>island</th>\n",
       "      <th>bill_length_mm</th>\n",
       "      <th>bill_depth_mm</th>\n",
       "      <th>flipper_length_mm</th>\n",
       "      <th>body_mass_g</th>\n",
       "      <th>sex</th>\n",
       "      <th>year</th>\n",
       "    </tr>\n",
       "  </thead>\n",
       "  <tbody>\n",
       "    <tr>\n",
       "      <th>0</th>\n",
       "      <td>Adelie</td>\n",
       "      <td>Torgersen</td>\n",
       "      <td>39.1</td>\n",
       "      <td>18.7</td>\n",
       "      <td>181.0</td>\n",
       "      <td>3750.0</td>\n",
       "      <td>male</td>\n",
       "      <td>2007</td>\n",
       "    </tr>\n",
       "    <tr>\n",
       "      <th>1</th>\n",
       "      <td>Adelie</td>\n",
       "      <td>Torgersen</td>\n",
       "      <td>39.5</td>\n",
       "      <td>17.4</td>\n",
       "      <td>186.0</td>\n",
       "      <td>3800.0</td>\n",
       "      <td>female</td>\n",
       "      <td>2007</td>\n",
       "    </tr>\n",
       "    <tr>\n",
       "      <th>2</th>\n",
       "      <td>Adelie</td>\n",
       "      <td>Torgersen</td>\n",
       "      <td>40.3</td>\n",
       "      <td>18.0</td>\n",
       "      <td>195.0</td>\n",
       "      <td>3250.0</td>\n",
       "      <td>female</td>\n",
       "      <td>2007</td>\n",
       "    </tr>\n",
       "    <tr>\n",
       "      <th>3</th>\n",
       "      <td>Adelie</td>\n",
       "      <td>Torgersen</td>\n",
       "      <td>NaN</td>\n",
       "      <td>NaN</td>\n",
       "      <td>NaN</td>\n",
       "      <td>NaN</td>\n",
       "      <td>NaN</td>\n",
       "      <td>2007</td>\n",
       "    </tr>\n",
       "    <tr>\n",
       "      <th>4</th>\n",
       "      <td>Adelie</td>\n",
       "      <td>Torgersen</td>\n",
       "      <td>36.7</td>\n",
       "      <td>19.3</td>\n",
       "      <td>193.0</td>\n",
       "      <td>3450.0</td>\n",
       "      <td>female</td>\n",
       "      <td>2007</td>\n",
       "    </tr>\n",
       "    <tr>\n",
       "      <th>...</th>\n",
       "      <td>...</td>\n",
       "      <td>...</td>\n",
       "      <td>...</td>\n",
       "      <td>...</td>\n",
       "      <td>...</td>\n",
       "      <td>...</td>\n",
       "      <td>...</td>\n",
       "      <td>...</td>\n",
       "    </tr>\n",
       "    <tr>\n",
       "      <th>339</th>\n",
       "      <td>Chinstrap</td>\n",
       "      <td>Dream</td>\n",
       "      <td>55.8</td>\n",
       "      <td>19.8</td>\n",
       "      <td>207.0</td>\n",
       "      <td>4000.0</td>\n",
       "      <td>male</td>\n",
       "      <td>2009</td>\n",
       "    </tr>\n",
       "    <tr>\n",
       "      <th>340</th>\n",
       "      <td>Chinstrap</td>\n",
       "      <td>Dream</td>\n",
       "      <td>43.5</td>\n",
       "      <td>18.1</td>\n",
       "      <td>202.0</td>\n",
       "      <td>3400.0</td>\n",
       "      <td>female</td>\n",
       "      <td>2009</td>\n",
       "    </tr>\n",
       "    <tr>\n",
       "      <th>341</th>\n",
       "      <td>Chinstrap</td>\n",
       "      <td>Dream</td>\n",
       "      <td>49.6</td>\n",
       "      <td>18.2</td>\n",
       "      <td>193.0</td>\n",
       "      <td>3775.0</td>\n",
       "      <td>male</td>\n",
       "      <td>2009</td>\n",
       "    </tr>\n",
       "    <tr>\n",
       "      <th>342</th>\n",
       "      <td>Chinstrap</td>\n",
       "      <td>Dream</td>\n",
       "      <td>50.8</td>\n",
       "      <td>19.0</td>\n",
       "      <td>210.0</td>\n",
       "      <td>4100.0</td>\n",
       "      <td>male</td>\n",
       "      <td>2009</td>\n",
       "    </tr>\n",
       "    <tr>\n",
       "      <th>343</th>\n",
       "      <td>Chinstrap</td>\n",
       "      <td>Dream</td>\n",
       "      <td>50.2</td>\n",
       "      <td>18.7</td>\n",
       "      <td>198.0</td>\n",
       "      <td>3775.0</td>\n",
       "      <td>female</td>\n",
       "      <td>2009</td>\n",
       "    </tr>\n",
       "  </tbody>\n",
       "</table>\n",
       "<p>344 rows × 8 columns</p>\n",
       "</div>"
      ],
      "text/plain": [
       "       species     island  bill_length_mm  bill_depth_mm  flipper_length_mm  \\\n",
       "0       Adelie  Torgersen            39.1           18.7              181.0   \n",
       "1       Adelie  Torgersen            39.5           17.4              186.0   \n",
       "2       Adelie  Torgersen            40.3           18.0              195.0   \n",
       "3       Adelie  Torgersen             NaN            NaN                NaN   \n",
       "4       Adelie  Torgersen            36.7           19.3              193.0   \n",
       "..         ...        ...             ...            ...                ...   \n",
       "339  Chinstrap      Dream            55.8           19.8              207.0   \n",
       "340  Chinstrap      Dream            43.5           18.1              202.0   \n",
       "341  Chinstrap      Dream            49.6           18.2              193.0   \n",
       "342  Chinstrap      Dream            50.8           19.0              210.0   \n",
       "343  Chinstrap      Dream            50.2           18.7              198.0   \n",
       "\n",
       "     body_mass_g     sex  year  \n",
       "0         3750.0    male  2007  \n",
       "1         3800.0  female  2007  \n",
       "2         3250.0  female  2007  \n",
       "3            NaN     NaN  2007  \n",
       "4         3450.0  female  2007  \n",
       "..           ...     ...   ...  \n",
       "339       4000.0    male  2009  \n",
       "340       3400.0  female  2009  \n",
       "341       3775.0    male  2009  \n",
       "342       4100.0    male  2009  \n",
       "343       3775.0  female  2009  \n",
       "\n",
       "[344 rows x 8 columns]"
      ]
     },
     "execution_count": 3,
     "metadata": {},
     "output_type": "execute_result"
    }
   ],
   "source": [
    "penguin"
   ]
  },
  {
   "cell_type": "markdown",
   "id": "fe80e552-ad65-4828-8320-507044da9094",
   "metadata": {},
   "source": [
    "<h1>Descriptive Analytic</h1>"
   ]
  },
  {
   "cell_type": "code",
   "execution_count": 4,
   "id": "c7d407bd-18c2-4ac1-9ea9-85c3c73a02d1",
   "metadata": {},
   "outputs": [
    {
     "data": {
      "text/html": [
       "<div>\n",
       "<style scoped>\n",
       "    .dataframe tbody tr th:only-of-type {\n",
       "        vertical-align: middle;\n",
       "    }\n",
       "\n",
       "    .dataframe tbody tr th {\n",
       "        vertical-align: top;\n",
       "    }\n",
       "\n",
       "    .dataframe thead th {\n",
       "        text-align: right;\n",
       "    }\n",
       "</style>\n",
       "<table border=\"1\" class=\"dataframe\">\n",
       "  <thead>\n",
       "    <tr style=\"text-align: right;\">\n",
       "      <th></th>\n",
       "      <th>bill_length_mm</th>\n",
       "      <th>bill_depth_mm</th>\n",
       "      <th>flipper_length_mm</th>\n",
       "      <th>body_mass_g</th>\n",
       "      <th>year</th>\n",
       "    </tr>\n",
       "  </thead>\n",
       "  <tbody>\n",
       "    <tr>\n",
       "      <th>count</th>\n",
       "      <td>342.000000</td>\n",
       "      <td>342.000000</td>\n",
       "      <td>342.000000</td>\n",
       "      <td>342.000000</td>\n",
       "      <td>344.000000</td>\n",
       "    </tr>\n",
       "    <tr>\n",
       "      <th>mean</th>\n",
       "      <td>43.921930</td>\n",
       "      <td>17.151170</td>\n",
       "      <td>200.915205</td>\n",
       "      <td>4201.754386</td>\n",
       "      <td>2008.029070</td>\n",
       "    </tr>\n",
       "    <tr>\n",
       "      <th>std</th>\n",
       "      <td>5.459584</td>\n",
       "      <td>1.974793</td>\n",
       "      <td>14.061714</td>\n",
       "      <td>801.954536</td>\n",
       "      <td>0.818356</td>\n",
       "    </tr>\n",
       "    <tr>\n",
       "      <th>min</th>\n",
       "      <td>32.100000</td>\n",
       "      <td>13.100000</td>\n",
       "      <td>172.000000</td>\n",
       "      <td>2700.000000</td>\n",
       "      <td>2007.000000</td>\n",
       "    </tr>\n",
       "    <tr>\n",
       "      <th>25%</th>\n",
       "      <td>39.225000</td>\n",
       "      <td>15.600000</td>\n",
       "      <td>190.000000</td>\n",
       "      <td>3550.000000</td>\n",
       "      <td>2007.000000</td>\n",
       "    </tr>\n",
       "    <tr>\n",
       "      <th>50%</th>\n",
       "      <td>44.450000</td>\n",
       "      <td>17.300000</td>\n",
       "      <td>197.000000</td>\n",
       "      <td>4050.000000</td>\n",
       "      <td>2008.000000</td>\n",
       "    </tr>\n",
       "    <tr>\n",
       "      <th>75%</th>\n",
       "      <td>48.500000</td>\n",
       "      <td>18.700000</td>\n",
       "      <td>213.000000</td>\n",
       "      <td>4750.000000</td>\n",
       "      <td>2009.000000</td>\n",
       "    </tr>\n",
       "    <tr>\n",
       "      <th>max</th>\n",
       "      <td>59.600000</td>\n",
       "      <td>21.500000</td>\n",
       "      <td>231.000000</td>\n",
       "      <td>6300.000000</td>\n",
       "      <td>2009.000000</td>\n",
       "    </tr>\n",
       "  </tbody>\n",
       "</table>\n",
       "</div>"
      ],
      "text/plain": [
       "       bill_length_mm  bill_depth_mm  flipper_length_mm  body_mass_g  \\\n",
       "count      342.000000     342.000000         342.000000   342.000000   \n",
       "mean        43.921930      17.151170         200.915205  4201.754386   \n",
       "std          5.459584       1.974793          14.061714   801.954536   \n",
       "min         32.100000      13.100000         172.000000  2700.000000   \n",
       "25%         39.225000      15.600000         190.000000  3550.000000   \n",
       "50%         44.450000      17.300000         197.000000  4050.000000   \n",
       "75%         48.500000      18.700000         213.000000  4750.000000   \n",
       "max         59.600000      21.500000         231.000000  6300.000000   \n",
       "\n",
       "              year  \n",
       "count   344.000000  \n",
       "mean   2008.029070  \n",
       "std       0.818356  \n",
       "min    2007.000000  \n",
       "25%    2007.000000  \n",
       "50%    2008.000000  \n",
       "75%    2009.000000  \n",
       "max    2009.000000  "
      ]
     },
     "execution_count": 4,
     "metadata": {},
     "output_type": "execute_result"
    }
   ],
   "source": [
    "penguin.describe()\n"
   ]
  },
  {
   "cell_type": "markdown",
   "id": "86b6cbbe-71e0-4c8a-8ac8-0da2d6d3d30b",
   "metadata": {},
   "source": [
    "<h2>Filtering a column</h2>"
   ]
  },
  {
   "cell_type": "code",
   "execution_count": 5,
   "id": "dbf7d5cd-1533-45a4-922a-d026e32ab889",
   "metadata": {},
   "outputs": [
    {
     "data": {
      "text/html": [
       "<div>\n",
       "<style scoped>\n",
       "    .dataframe tbody tr th:only-of-type {\n",
       "        vertical-align: middle;\n",
       "    }\n",
       "\n",
       "    .dataframe tbody tr th {\n",
       "        vertical-align: top;\n",
       "    }\n",
       "\n",
       "    .dataframe thead th {\n",
       "        text-align: right;\n",
       "    }\n",
       "</style>\n",
       "<table border=\"1\" class=\"dataframe\">\n",
       "  <thead>\n",
       "    <tr style=\"text-align: right;\">\n",
       "      <th></th>\n",
       "      <th>species</th>\n",
       "      <th>island</th>\n",
       "      <th>bill_length_mm</th>\n",
       "      <th>bill_depth_mm</th>\n",
       "      <th>flipper_length_mm</th>\n",
       "      <th>body_mass_g</th>\n",
       "      <th>sex</th>\n",
       "      <th>year</th>\n",
       "    </tr>\n",
       "  </thead>\n",
       "  <tbody>\n",
       "    <tr>\n",
       "      <th>0</th>\n",
       "      <td>Adelie</td>\n",
       "      <td>Torgersen</td>\n",
       "      <td>39.1</td>\n",
       "      <td>18.7</td>\n",
       "      <td>181.0</td>\n",
       "      <td>3750.0</td>\n",
       "      <td>male</td>\n",
       "      <td>2007</td>\n",
       "    </tr>\n",
       "    <tr>\n",
       "      <th>1</th>\n",
       "      <td>Adelie</td>\n",
       "      <td>Torgersen</td>\n",
       "      <td>39.5</td>\n",
       "      <td>17.4</td>\n",
       "      <td>186.0</td>\n",
       "      <td>3800.0</td>\n",
       "      <td>female</td>\n",
       "      <td>2007</td>\n",
       "    </tr>\n",
       "    <tr>\n",
       "      <th>2</th>\n",
       "      <td>Adelie</td>\n",
       "      <td>Torgersen</td>\n",
       "      <td>40.3</td>\n",
       "      <td>18.0</td>\n",
       "      <td>195.0</td>\n",
       "      <td>3250.0</td>\n",
       "      <td>female</td>\n",
       "      <td>2007</td>\n",
       "    </tr>\n",
       "    <tr>\n",
       "      <th>3</th>\n",
       "      <td>Adelie</td>\n",
       "      <td>Torgersen</td>\n",
       "      <td>NaN</td>\n",
       "      <td>NaN</td>\n",
       "      <td>NaN</td>\n",
       "      <td>NaN</td>\n",
       "      <td>NaN</td>\n",
       "      <td>2007</td>\n",
       "    </tr>\n",
       "    <tr>\n",
       "      <th>4</th>\n",
       "      <td>Adelie</td>\n",
       "      <td>Torgersen</td>\n",
       "      <td>36.7</td>\n",
       "      <td>19.3</td>\n",
       "      <td>193.0</td>\n",
       "      <td>3450.0</td>\n",
       "      <td>female</td>\n",
       "      <td>2007</td>\n",
       "    </tr>\n",
       "    <tr>\n",
       "      <th>...</th>\n",
       "      <td>...</td>\n",
       "      <td>...</td>\n",
       "      <td>...</td>\n",
       "      <td>...</td>\n",
       "      <td>...</td>\n",
       "      <td>...</td>\n",
       "      <td>...</td>\n",
       "      <td>...</td>\n",
       "    </tr>\n",
       "    <tr>\n",
       "      <th>147</th>\n",
       "      <td>Adelie</td>\n",
       "      <td>Dream</td>\n",
       "      <td>36.6</td>\n",
       "      <td>18.4</td>\n",
       "      <td>184.0</td>\n",
       "      <td>3475.0</td>\n",
       "      <td>female</td>\n",
       "      <td>2009</td>\n",
       "    </tr>\n",
       "    <tr>\n",
       "      <th>148</th>\n",
       "      <td>Adelie</td>\n",
       "      <td>Dream</td>\n",
       "      <td>36.0</td>\n",
       "      <td>17.8</td>\n",
       "      <td>195.0</td>\n",
       "      <td>3450.0</td>\n",
       "      <td>female</td>\n",
       "      <td>2009</td>\n",
       "    </tr>\n",
       "    <tr>\n",
       "      <th>149</th>\n",
       "      <td>Adelie</td>\n",
       "      <td>Dream</td>\n",
       "      <td>37.8</td>\n",
       "      <td>18.1</td>\n",
       "      <td>193.0</td>\n",
       "      <td>3750.0</td>\n",
       "      <td>male</td>\n",
       "      <td>2009</td>\n",
       "    </tr>\n",
       "    <tr>\n",
       "      <th>150</th>\n",
       "      <td>Adelie</td>\n",
       "      <td>Dream</td>\n",
       "      <td>36.0</td>\n",
       "      <td>17.1</td>\n",
       "      <td>187.0</td>\n",
       "      <td>3700.0</td>\n",
       "      <td>female</td>\n",
       "      <td>2009</td>\n",
       "    </tr>\n",
       "    <tr>\n",
       "      <th>151</th>\n",
       "      <td>Adelie</td>\n",
       "      <td>Dream</td>\n",
       "      <td>41.5</td>\n",
       "      <td>18.5</td>\n",
       "      <td>201.0</td>\n",
       "      <td>4000.0</td>\n",
       "      <td>male</td>\n",
       "      <td>2009</td>\n",
       "    </tr>\n",
       "  </tbody>\n",
       "</table>\n",
       "<p>152 rows × 8 columns</p>\n",
       "</div>"
      ],
      "text/plain": [
       "    species     island  bill_length_mm  bill_depth_mm  flipper_length_mm  \\\n",
       "0    Adelie  Torgersen            39.1           18.7              181.0   \n",
       "1    Adelie  Torgersen            39.5           17.4              186.0   \n",
       "2    Adelie  Torgersen            40.3           18.0              195.0   \n",
       "3    Adelie  Torgersen             NaN            NaN                NaN   \n",
       "4    Adelie  Torgersen            36.7           19.3              193.0   \n",
       "..      ...        ...             ...            ...                ...   \n",
       "147  Adelie      Dream            36.6           18.4              184.0   \n",
       "148  Adelie      Dream            36.0           17.8              195.0   \n",
       "149  Adelie      Dream            37.8           18.1              193.0   \n",
       "150  Adelie      Dream            36.0           17.1              187.0   \n",
       "151  Adelie      Dream            41.5           18.5              201.0   \n",
       "\n",
       "     body_mass_g     sex  year  \n",
       "0         3750.0    male  2007  \n",
       "1         3800.0  female  2007  \n",
       "2         3250.0  female  2007  \n",
       "3            NaN     NaN  2007  \n",
       "4         3450.0  female  2007  \n",
       "..           ...     ...   ...  \n",
       "147       3475.0  female  2009  \n",
       "148       3450.0  female  2009  \n",
       "149       3750.0    male  2009  \n",
       "150       3700.0  female  2009  \n",
       "151       4000.0    male  2009  \n",
       "\n",
       "[152 rows x 8 columns]"
      ]
     },
     "execution_count": 5,
     "metadata": {},
     "output_type": "execute_result"
    }
   ],
   "source": [
    "penguin[penguin['species'] == \"Adelie\"]"
   ]
  },
  {
   "cell_type": "code",
   "execution_count": 6,
   "id": "042c0ddc-44e9-4523-b57a-5b45feedb00f",
   "metadata": {},
   "outputs": [
    {
     "data": {
      "text/plain": [
       "0        male\n",
       "1      female\n",
       "2      female\n",
       "3         NaN\n",
       "4      female\n",
       "        ...  \n",
       "339      male\n",
       "340    female\n",
       "341      male\n",
       "342      male\n",
       "343    female\n",
       "Name: sex, Length: 344, dtype: object"
      ]
     },
     "execution_count": 6,
     "metadata": {},
     "output_type": "execute_result"
    }
   ],
   "source": [
    "penguin['sex']"
   ]
  },
  {
   "cell_type": "code",
   "execution_count": 7,
   "id": "1027b42e-b2ab-4387-a1c0-eca271a99edc",
   "metadata": {},
   "outputs": [],
   "source": [
    "adelie_df = penguin[penguin['species'] == \"adelie\"]"
   ]
  },
  {
   "cell_type": "code",
   "execution_count": 8,
   "id": "cc03b019-8185-4a7e-9ff3-c6b058e5b8e5",
   "metadata": {},
   "outputs": [
    {
     "data": {
      "text/plain": [
       "species\n",
       "Adelie       152\n",
       "Gentoo       124\n",
       "Chinstrap     68\n",
       "Name: count, dtype: int64"
      ]
     },
     "execution_count": 8,
     "metadata": {},
     "output_type": "execute_result"
    }
   ],
   "source": [
    "penguin['species'].value_counts()"
   ]
  },
  {
   "cell_type": "code",
   "execution_count": 9,
   "id": "6bfd0cbe-dfe1-4297-9bba-caad7444634f",
   "metadata": {},
   "outputs": [
    {
     "data": {
      "text/plain": [
       "<bound method Series.mean of Series([], Name: body_mass_g, dtype: float64)>"
      ]
     },
     "execution_count": 9,
     "metadata": {},
     "output_type": "execute_result"
    }
   ],
   "source": [
    "adelie_df['body_mass_g'].mean"
   ]
  },
  {
   "cell_type": "code",
   "execution_count": 10,
   "id": "2618c2b3-700d-4930-b484-810e100dd496",
   "metadata": {},
   "outputs": [
    {
     "data": {
      "text/plain": [
       "island\n",
       "Biscoe       168\n",
       "Dream        124\n",
       "Torgersen     52\n",
       "Name: count, dtype: int64"
      ]
     },
     "execution_count": 10,
     "metadata": {},
     "output_type": "execute_result"
    }
   ],
   "source": [
    "penguin['island'].value_counts()"
   ]
  },
  {
   "cell_type": "code",
   "execution_count": 11,
   "id": "76c3ad37-00d3-4520-a47b-6a16497c0f73",
   "metadata": {},
   "outputs": [
    {
     "data": {
      "text/html": [
       "<div>\n",
       "<style scoped>\n",
       "    .dataframe tbody tr th:only-of-type {\n",
       "        vertical-align: middle;\n",
       "    }\n",
       "\n",
       "    .dataframe tbody tr th {\n",
       "        vertical-align: top;\n",
       "    }\n",
       "\n",
       "    .dataframe thead th {\n",
       "        text-align: right;\n",
       "    }\n",
       "</style>\n",
       "<table border=\"1\" class=\"dataframe\">\n",
       "  <thead>\n",
       "    <tr style=\"text-align: right;\">\n",
       "      <th></th>\n",
       "      <th>species</th>\n",
       "      <th>island</th>\n",
       "      <th>bill_length_mm</th>\n",
       "      <th>bill_depth_mm</th>\n",
       "      <th>flipper_length_mm</th>\n",
       "      <th>body_mass_g</th>\n",
       "      <th>sex</th>\n",
       "      <th>year</th>\n",
       "    </tr>\n",
       "  </thead>\n",
       "  <tbody>\n",
       "    <tr>\n",
       "      <th>30</th>\n",
       "      <td>Adelie</td>\n",
       "      <td>Dream</td>\n",
       "      <td>39.5</td>\n",
       "      <td>16.7</td>\n",
       "      <td>178.0</td>\n",
       "      <td>3250.0</td>\n",
       "      <td>female</td>\n",
       "      <td>2007</td>\n",
       "    </tr>\n",
       "    <tr>\n",
       "      <th>31</th>\n",
       "      <td>Adelie</td>\n",
       "      <td>Dream</td>\n",
       "      <td>37.2</td>\n",
       "      <td>18.1</td>\n",
       "      <td>178.0</td>\n",
       "      <td>3900.0</td>\n",
       "      <td>male</td>\n",
       "      <td>2007</td>\n",
       "    </tr>\n",
       "    <tr>\n",
       "      <th>32</th>\n",
       "      <td>Adelie</td>\n",
       "      <td>Dream</td>\n",
       "      <td>39.5</td>\n",
       "      <td>17.8</td>\n",
       "      <td>188.0</td>\n",
       "      <td>3300.0</td>\n",
       "      <td>female</td>\n",
       "      <td>2007</td>\n",
       "    </tr>\n",
       "    <tr>\n",
       "      <th>33</th>\n",
       "      <td>Adelie</td>\n",
       "      <td>Dream</td>\n",
       "      <td>40.9</td>\n",
       "      <td>18.9</td>\n",
       "      <td>184.0</td>\n",
       "      <td>3900.0</td>\n",
       "      <td>male</td>\n",
       "      <td>2007</td>\n",
       "    </tr>\n",
       "    <tr>\n",
       "      <th>34</th>\n",
       "      <td>Adelie</td>\n",
       "      <td>Dream</td>\n",
       "      <td>36.4</td>\n",
       "      <td>17.0</td>\n",
       "      <td>195.0</td>\n",
       "      <td>3325.0</td>\n",
       "      <td>female</td>\n",
       "      <td>2007</td>\n",
       "    </tr>\n",
       "    <tr>\n",
       "      <th>...</th>\n",
       "      <td>...</td>\n",
       "      <td>...</td>\n",
       "      <td>...</td>\n",
       "      <td>...</td>\n",
       "      <td>...</td>\n",
       "      <td>...</td>\n",
       "      <td>...</td>\n",
       "      <td>...</td>\n",
       "    </tr>\n",
       "    <tr>\n",
       "      <th>339</th>\n",
       "      <td>Chinstrap</td>\n",
       "      <td>Dream</td>\n",
       "      <td>55.8</td>\n",
       "      <td>19.8</td>\n",
       "      <td>207.0</td>\n",
       "      <td>4000.0</td>\n",
       "      <td>male</td>\n",
       "      <td>2009</td>\n",
       "    </tr>\n",
       "    <tr>\n",
       "      <th>340</th>\n",
       "      <td>Chinstrap</td>\n",
       "      <td>Dream</td>\n",
       "      <td>43.5</td>\n",
       "      <td>18.1</td>\n",
       "      <td>202.0</td>\n",
       "      <td>3400.0</td>\n",
       "      <td>female</td>\n",
       "      <td>2009</td>\n",
       "    </tr>\n",
       "    <tr>\n",
       "      <th>341</th>\n",
       "      <td>Chinstrap</td>\n",
       "      <td>Dream</td>\n",
       "      <td>49.6</td>\n",
       "      <td>18.2</td>\n",
       "      <td>193.0</td>\n",
       "      <td>3775.0</td>\n",
       "      <td>male</td>\n",
       "      <td>2009</td>\n",
       "    </tr>\n",
       "    <tr>\n",
       "      <th>342</th>\n",
       "      <td>Chinstrap</td>\n",
       "      <td>Dream</td>\n",
       "      <td>50.8</td>\n",
       "      <td>19.0</td>\n",
       "      <td>210.0</td>\n",
       "      <td>4100.0</td>\n",
       "      <td>male</td>\n",
       "      <td>2009</td>\n",
       "    </tr>\n",
       "    <tr>\n",
       "      <th>343</th>\n",
       "      <td>Chinstrap</td>\n",
       "      <td>Dream</td>\n",
       "      <td>50.2</td>\n",
       "      <td>18.7</td>\n",
       "      <td>198.0</td>\n",
       "      <td>3775.0</td>\n",
       "      <td>female</td>\n",
       "      <td>2009</td>\n",
       "    </tr>\n",
       "  </tbody>\n",
       "</table>\n",
       "<p>124 rows × 8 columns</p>\n",
       "</div>"
      ],
      "text/plain": [
       "       species island  bill_length_mm  bill_depth_mm  flipper_length_mm  \\\n",
       "30      Adelie  Dream            39.5           16.7              178.0   \n",
       "31      Adelie  Dream            37.2           18.1              178.0   \n",
       "32      Adelie  Dream            39.5           17.8              188.0   \n",
       "33      Adelie  Dream            40.9           18.9              184.0   \n",
       "34      Adelie  Dream            36.4           17.0              195.0   \n",
       "..         ...    ...             ...            ...                ...   \n",
       "339  Chinstrap  Dream            55.8           19.8              207.0   \n",
       "340  Chinstrap  Dream            43.5           18.1              202.0   \n",
       "341  Chinstrap  Dream            49.6           18.2              193.0   \n",
       "342  Chinstrap  Dream            50.8           19.0              210.0   \n",
       "343  Chinstrap  Dream            50.2           18.7              198.0   \n",
       "\n",
       "     body_mass_g     sex  year  \n",
       "30        3250.0  female  2007  \n",
       "31        3900.0    male  2007  \n",
       "32        3300.0  female  2007  \n",
       "33        3900.0    male  2007  \n",
       "34        3325.0  female  2007  \n",
       "..           ...     ...   ...  \n",
       "339       4000.0    male  2009  \n",
       "340       3400.0  female  2009  \n",
       "341       3775.0    male  2009  \n",
       "342       4100.0    male  2009  \n",
       "343       3775.0  female  2009  \n",
       "\n",
       "[124 rows x 8 columns]"
      ]
     },
     "execution_count": 11,
     "metadata": {},
     "output_type": "execute_result"
    }
   ],
   "source": [
    "penguin[penguin['island'] == 'Dream']"
   ]
  },
  {
   "cell_type": "markdown",
   "id": "a8476418-1f0c-4e1c-a274-a595958e7d47",
   "metadata": {},
   "source": [
    "<h2>Cleaning the Data Frame</h2>"
   ]
  },
  {
   "cell_type": "code",
   "execution_count": 12,
   "id": "2e3a21e0-715e-428d-a343-5638b85a2b80",
   "metadata": {},
   "outputs": [
    {
     "data": {
      "text/plain": [
       "species               0\n",
       "island                0\n",
       "bill_length_mm        2\n",
       "bill_depth_mm         2\n",
       "flipper_length_mm     2\n",
       "body_mass_g           2\n",
       "sex                  11\n",
       "year                  0\n",
       "dtype: int64"
      ]
     },
     "execution_count": 12,
     "metadata": {},
     "output_type": "execute_result"
    }
   ],
   "source": [
    "penguin.isnull().sum()"
   ]
  },
  {
   "cell_type": "markdown",
   "id": "c81ebc7d-ae34-4975-930d-84b33937d16f",
   "metadata": {},
   "source": [
    "<h4>What to do with all the NULL VALUES</h4>"
   ]
  },
  {
   "cell_type": "markdown",
   "id": "4be04b86-bc15-4c34-8af5-dfc37d4711eb",
   "metadata": {},
   "source": [
    "<h2>What to do with all the NULL VALUES</h2>"
   ]
  },
  {
   "cell_type": "code",
   "execution_count": 13,
   "id": "2251160c-6544-4216-834c-1efe139708d0",
   "metadata": {},
   "outputs": [
    {
     "data": {
      "text/plain": [
       "43.9219298245614"
      ]
     },
     "execution_count": 13,
     "metadata": {},
     "output_type": "execute_result"
    }
   ],
   "source": [
    "penguin['bill_length_mm'].mean()"
   ]
  },
  {
   "cell_type": "code",
   "execution_count": 14,
   "id": "274ed1d4-7107-4aa0-8fca-5b9fbfc8127e",
   "metadata": {},
   "outputs": [
    {
     "data": {
      "text/plain": [
       "0    male\n",
       "Name: sex, dtype: object"
      ]
     },
     "execution_count": 14,
     "metadata": {},
     "output_type": "execute_result"
    }
   ],
   "source": [
    "penguin['sex'].mode()"
   ]
  },
  {
   "cell_type": "markdown",
   "id": "4035ccd4-89b7-45e8-ba1c-d35ea0c8838e",
   "metadata": {},
   "source": [
    "<h2>HOW TO FILLUP NULL VALUES</h2>"
   ]
  },
  {
   "cell_type": "code",
   "execution_count": 15,
   "id": "c2cfd04a-a52f-42b5-b3b2-1c879b0e14b6",
   "metadata": {},
   "outputs": [],
   "source": [
    "penguin['bill_length_mm'] = penguin['bill_length_mm'].fillna(penguin['bill_length_mm'].mean())"
   ]
  },
  {
   "cell_type": "code",
   "execution_count": 16,
   "id": "ec707cf5-eab7-4626-9267-30cd2901cac8",
   "metadata": {},
   "outputs": [
    {
     "data": {
      "text/plain": [
       "species               0\n",
       "island                0\n",
       "bill_length_mm        0\n",
       "bill_depth_mm         2\n",
       "flipper_length_mm     2\n",
       "body_mass_g           2\n",
       "sex                  11\n",
       "year                  0\n",
       "dtype: int64"
      ]
     },
     "execution_count": 16,
     "metadata": {},
     "output_type": "execute_result"
    }
   ],
   "source": [
    "penguin.isnull().sum()"
   ]
  },
  {
   "cell_type": "markdown",
   "id": "8a5a3817-f7b5-47f5-9835-29aa4e083a56",
   "metadata": {},
   "source": [
    "<h2>Changing Data Types</h2>"
   ]
  },
  {
   "cell_type": "code",
   "execution_count": 17,
   "id": "61321326-fea8-413d-833e-60b696dcdc6e",
   "metadata": {},
   "outputs": [],
   "source": [
    "penguin['species'] = penguin['species'].astype('category')\n",
    "penguin['species'] = penguin['species'].astype('category')"
   ]
  },
  {
   "cell_type": "code",
   "execution_count": 18,
   "id": "26398cfc-1ed4-4e85-86a0-c474c5e5036e",
   "metadata": {},
   "outputs": [
    {
     "name": "stdout",
     "output_type": "stream",
     "text": [
      "<class 'pandas.core.frame.DataFrame'>\n",
      "RangeIndex: 344 entries, 0 to 343\n",
      "Data columns (total 8 columns):\n",
      " #   Column             Non-Null Count  Dtype   \n",
      "---  ------             --------------  -----   \n",
      " 0   species            344 non-null    category\n",
      " 1   island             344 non-null    object  \n",
      " 2   bill_length_mm     344 non-null    float64 \n",
      " 3   bill_depth_mm      342 non-null    float64 \n",
      " 4   flipper_length_mm  342 non-null    float64 \n",
      " 5   body_mass_g        342 non-null    float64 \n",
      " 6   sex                333 non-null    object  \n",
      " 7   year               344 non-null    int64   \n",
      "dtypes: category(1), float64(4), int64(1), object(2)\n",
      "memory usage: 19.4+ KB\n"
     ]
    }
   ],
   "source": [
    "penguin.info()"
   ]
  },
  {
   "cell_type": "markdown",
   "id": "f50405f8-c8bc-491c-a720-e2ca228c7e08",
   "metadata": {},
   "source": [
    "<h1>ACTIVITY 1</h1>\n",
    "<hr>"
   ]
  },
  {
   "cell_type": "markdown",
   "id": "e7728534-e1aa-4dc4-8d7c-36f2927bde5c",
   "metadata": {},
   "source": [
    "<h1>HOW MANY FEMALE PENGUINS IS THERE IN THE ISLAND OF DREAM?</h1>"
   ]
  },
  {
   "cell_type": "code",
   "execution_count": 19,
   "id": "16c8b707-c055-46fb-9156-c1cffb8ca755",
   "metadata": {},
   "outputs": [],
   "source": [
    "female = penguin.groupby(['species','island', 'sex'], observed=True).size()"
   ]
  },
  {
   "cell_type": "code",
   "execution_count": 20,
   "id": "6e3fce9f-374c-4746-92ba-d42fd4d3b636",
   "metadata": {},
   "outputs": [
    {
     "data": {
      "text/plain": [
       "species    island     sex   \n",
       "Adelie     Biscoe     female    22\n",
       "                      male      22\n",
       "           Dream      female    27\n",
       "                      male      28\n",
       "           Torgersen  female    24\n",
       "                      male      23\n",
       "Chinstrap  Dream      female    34\n",
       "                      male      34\n",
       "Gentoo     Biscoe     female    58\n",
       "                      male      61\n",
       "dtype: int64"
      ]
     },
     "execution_count": 20,
     "metadata": {},
     "output_type": "execute_result"
    }
   ],
   "source": [
    "female"
   ]
  },
  {
   "cell_type": "markdown",
   "id": "cfd424e1-451f-49b9-9e9b-9e2f0d1fda4b",
   "metadata": {},
   "source": [
    "<h2>\"Insight 1: The female penguin in the island of dream is 27\"</h2>"
   ]
  },
  {
   "cell_type": "markdown",
   "id": "432dfe5a-a841-49ee-96a4-05b4e129f89d",
   "metadata": {},
   "source": [
    "<h1>IN WHAT YEAR HAS THE MOST NUMBER OF PENGUINS?</h1>"
   ]
  },
  {
   "cell_type": "code",
   "execution_count": 21,
   "id": "7a10b90c-f7d7-4b70-9a60-348ac3178372",
   "metadata": {},
   "outputs": [
    {
     "data": {
      "text/plain": [
       "year\n",
       "2009    120\n",
       "2008    114\n",
       "2007    110\n",
       "Name: count, dtype: int64"
      ]
     },
     "execution_count": 21,
     "metadata": {},
     "output_type": "execute_result"
    }
   ],
   "source": [
    "penguin['year'].value_counts()"
   ]
  },
  {
   "cell_type": "markdown",
   "id": "a31b42c1-046e-49d1-8e58-fc213df5438f",
   "metadata": {},
   "source": [
    "<h2>\"Insight 2: THE MOST NUMBER OF PENGUINS IS IN THE YEAR 2009\"</h2>"
   ]
  },
  {
   "cell_type": "markdown",
   "id": "4e2bfdbc-5a9f-484a-8096-8e3c1ce92b0d",
   "metadata": {},
   "source": [
    "<h1>WHAT YEAR HAS THE MOST AND LEAST PENGUINS?</h1>"
   ]
  },
  {
   "cell_type": "code",
   "execution_count": 22,
   "id": "6bdde5b6-5c6c-4b5e-b8b2-1bc2ce42f24c",
   "metadata": {},
   "outputs": [],
   "source": [
    "penguin_per_year = penguin.groupby(\"year\").size()"
   ]
  },
  {
   "cell_type": "code",
   "execution_count": 23,
   "id": "e9d8a269-9928-4d72-8031-768f2b3cc3e6",
   "metadata": {},
   "outputs": [
    {
     "data": {
      "text/plain": [
       "year\n",
       "2007    110\n",
       "2008    114\n",
       "2009    120\n",
       "dtype: int64"
      ]
     },
     "execution_count": 23,
     "metadata": {},
     "output_type": "execute_result"
    }
   ],
   "source": [
    "penguin_per_year"
   ]
  },
  {
   "cell_type": "markdown",
   "id": "8a385d77-dd97-4d1f-8b01-6d9c12041493",
   "metadata": {},
   "source": [
    "<h2>\"Insight 3: 2009 has the most number of penguins, And the least number of penguins is on the year 2007\"</h2>"
   ]
  },
  {
   "cell_type": "markdown",
   "id": "cc38f5ba-b410-4f1f-b422-478b433385fe",
   "metadata": {},
   "source": [
    "<h1>WHICH SEX HAS THE HIGHER NUMBER OF PENGUINS</h1>"
   ]
  },
  {
   "cell_type": "code",
   "execution_count": 24,
   "id": "0b718607-ee08-4130-9e54-baddbf97898b",
   "metadata": {},
   "outputs": [],
   "source": [
    "num = penguin.groupby([\"sex\"]).size()"
   ]
  },
  {
   "cell_type": "code",
   "execution_count": 25,
   "id": "d4928f54-1f94-462c-bfe5-8397fca55d16",
   "metadata": {},
   "outputs": [
    {
     "data": {
      "text/plain": [
       "sex\n",
       "female    165\n",
       "male      168\n",
       "dtype: int64"
      ]
     },
     "execution_count": 25,
     "metadata": {},
     "output_type": "execute_result"
    }
   ],
   "source": [
    "num"
   ]
  },
  {
   "cell_type": "markdown",
   "id": "839f8586-7dd2-451d-b453-9bf80530bdc0",
   "metadata": {},
   "source": [
    "<h2>\"Insight 4: Male has the highest number of penguins\"</h2>"
   ]
  },
  {
   "cell_type": "markdown",
   "id": "d7d5ec0a-b045-4dae-a5af-405e4706661a",
   "metadata": {},
   "source": [
    "<h1>what is the overall total number of penguins in all islands?</h1>"
   ]
  },
  {
   "cell_type": "code",
   "execution_count": 26,
   "id": "1a20534c-1adf-4666-82dc-9abffe32a973",
   "metadata": {},
   "outputs": [],
   "source": [
    "adelie_df = penguin[penguin['species'] == \"adelie\"]"
   ]
  },
  {
   "cell_type": "code",
   "execution_count": 27,
   "id": "9ddc16ad-0efd-4b5f-adcf-e14167cd403d",
   "metadata": {},
   "outputs": [
    {
     "data": {
      "text/plain": [
       "island\n",
       "Biscoe       168\n",
       "Dream        124\n",
       "Torgersen     52\n",
       "Name: count, dtype: int64"
      ]
     },
     "execution_count": 27,
     "metadata": {},
     "output_type": "execute_result"
    }
   ],
   "source": [
    "penguin['island'].value_counts()"
   ]
  },
  {
   "cell_type": "markdown",
   "id": "28fe6a2a-6a04-4762-949b-5b8ffbb8884f",
   "metadata": {},
   "source": [
    "<h2>\"insight 5: The total number of penguins in biscoe is 168, in Dream has 124, while in Torgersen is 52\"</h2>"
   ]
  },
  {
   "cell_type": "markdown",
   "id": "25a21064-dc55-4e62-ab9f-ad42260538a4",
   "metadata": {},
   "source": [
    "<h1>WHAT ISLAND HAS THE MOST PENGUINS IN YEAR 2007?</h1>"
   ]
  },
  {
   "cell_type": "code",
   "execution_count": 28,
   "id": "6b474dc4-e36d-49ca-af89-595ce54f1c3d",
   "metadata": {},
   "outputs": [],
   "source": [
    "penguin_2007 = penguin[penguin[\"year\"] == 2007]"
   ]
  },
  {
   "cell_type": "code",
   "execution_count": 29,
   "id": "e1545a35-f5e9-49b7-ae63-13917a0c34fd",
   "metadata": {},
   "outputs": [
    {
     "data": {
      "text/html": [
       "<div>\n",
       "<style scoped>\n",
       "    .dataframe tbody tr th:only-of-type {\n",
       "        vertical-align: middle;\n",
       "    }\n",
       "\n",
       "    .dataframe tbody tr th {\n",
       "        vertical-align: top;\n",
       "    }\n",
       "\n",
       "    .dataframe thead th {\n",
       "        text-align: right;\n",
       "    }\n",
       "</style>\n",
       "<table border=\"1\" class=\"dataframe\">\n",
       "  <thead>\n",
       "    <tr style=\"text-align: right;\">\n",
       "      <th></th>\n",
       "      <th>species</th>\n",
       "      <th>island</th>\n",
       "      <th>bill_length_mm</th>\n",
       "      <th>bill_depth_mm</th>\n",
       "      <th>flipper_length_mm</th>\n",
       "      <th>body_mass_g</th>\n",
       "      <th>sex</th>\n",
       "      <th>year</th>\n",
       "    </tr>\n",
       "  </thead>\n",
       "  <tbody>\n",
       "    <tr>\n",
       "      <th>0</th>\n",
       "      <td>Adelie</td>\n",
       "      <td>Torgersen</td>\n",
       "      <td>39.10000</td>\n",
       "      <td>18.7</td>\n",
       "      <td>181.0</td>\n",
       "      <td>3750.0</td>\n",
       "      <td>male</td>\n",
       "      <td>2007</td>\n",
       "    </tr>\n",
       "    <tr>\n",
       "      <th>1</th>\n",
       "      <td>Adelie</td>\n",
       "      <td>Torgersen</td>\n",
       "      <td>39.50000</td>\n",
       "      <td>17.4</td>\n",
       "      <td>186.0</td>\n",
       "      <td>3800.0</td>\n",
       "      <td>female</td>\n",
       "      <td>2007</td>\n",
       "    </tr>\n",
       "    <tr>\n",
       "      <th>2</th>\n",
       "      <td>Adelie</td>\n",
       "      <td>Torgersen</td>\n",
       "      <td>40.30000</td>\n",
       "      <td>18.0</td>\n",
       "      <td>195.0</td>\n",
       "      <td>3250.0</td>\n",
       "      <td>female</td>\n",
       "      <td>2007</td>\n",
       "    </tr>\n",
       "    <tr>\n",
       "      <th>3</th>\n",
       "      <td>Adelie</td>\n",
       "      <td>Torgersen</td>\n",
       "      <td>43.92193</td>\n",
       "      <td>NaN</td>\n",
       "      <td>NaN</td>\n",
       "      <td>NaN</td>\n",
       "      <td>NaN</td>\n",
       "      <td>2007</td>\n",
       "    </tr>\n",
       "    <tr>\n",
       "      <th>4</th>\n",
       "      <td>Adelie</td>\n",
       "      <td>Torgersen</td>\n",
       "      <td>36.70000</td>\n",
       "      <td>19.3</td>\n",
       "      <td>193.0</td>\n",
       "      <td>3450.0</td>\n",
       "      <td>female</td>\n",
       "      <td>2007</td>\n",
       "    </tr>\n",
       "    <tr>\n",
       "      <th>...</th>\n",
       "      <td>...</td>\n",
       "      <td>...</td>\n",
       "      <td>...</td>\n",
       "      <td>...</td>\n",
       "      <td>...</td>\n",
       "      <td>...</td>\n",
       "      <td>...</td>\n",
       "      <td>...</td>\n",
       "    </tr>\n",
       "    <tr>\n",
       "      <th>297</th>\n",
       "      <td>Chinstrap</td>\n",
       "      <td>Dream</td>\n",
       "      <td>48.50000</td>\n",
       "      <td>17.5</td>\n",
       "      <td>191.0</td>\n",
       "      <td>3400.0</td>\n",
       "      <td>male</td>\n",
       "      <td>2007</td>\n",
       "    </tr>\n",
       "    <tr>\n",
       "      <th>298</th>\n",
       "      <td>Chinstrap</td>\n",
       "      <td>Dream</td>\n",
       "      <td>43.20000</td>\n",
       "      <td>16.6</td>\n",
       "      <td>187.0</td>\n",
       "      <td>2900.0</td>\n",
       "      <td>female</td>\n",
       "      <td>2007</td>\n",
       "    </tr>\n",
       "    <tr>\n",
       "      <th>299</th>\n",
       "      <td>Chinstrap</td>\n",
       "      <td>Dream</td>\n",
       "      <td>50.60000</td>\n",
       "      <td>19.4</td>\n",
       "      <td>193.0</td>\n",
       "      <td>3800.0</td>\n",
       "      <td>male</td>\n",
       "      <td>2007</td>\n",
       "    </tr>\n",
       "    <tr>\n",
       "      <th>300</th>\n",
       "      <td>Chinstrap</td>\n",
       "      <td>Dream</td>\n",
       "      <td>46.70000</td>\n",
       "      <td>17.9</td>\n",
       "      <td>195.0</td>\n",
       "      <td>3300.0</td>\n",
       "      <td>female</td>\n",
       "      <td>2007</td>\n",
       "    </tr>\n",
       "    <tr>\n",
       "      <th>301</th>\n",
       "      <td>Chinstrap</td>\n",
       "      <td>Dream</td>\n",
       "      <td>52.00000</td>\n",
       "      <td>19.0</td>\n",
       "      <td>197.0</td>\n",
       "      <td>4150.0</td>\n",
       "      <td>male</td>\n",
       "      <td>2007</td>\n",
       "    </tr>\n",
       "  </tbody>\n",
       "</table>\n",
       "<p>110 rows × 8 columns</p>\n",
       "</div>"
      ],
      "text/plain": [
       "       species     island  bill_length_mm  bill_depth_mm  flipper_length_mm  \\\n",
       "0       Adelie  Torgersen        39.10000           18.7              181.0   \n",
       "1       Adelie  Torgersen        39.50000           17.4              186.0   \n",
       "2       Adelie  Torgersen        40.30000           18.0              195.0   \n",
       "3       Adelie  Torgersen        43.92193            NaN                NaN   \n",
       "4       Adelie  Torgersen        36.70000           19.3              193.0   \n",
       "..         ...        ...             ...            ...                ...   \n",
       "297  Chinstrap      Dream        48.50000           17.5              191.0   \n",
       "298  Chinstrap      Dream        43.20000           16.6              187.0   \n",
       "299  Chinstrap      Dream        50.60000           19.4              193.0   \n",
       "300  Chinstrap      Dream        46.70000           17.9              195.0   \n",
       "301  Chinstrap      Dream        52.00000           19.0              197.0   \n",
       "\n",
       "     body_mass_g     sex  year  \n",
       "0         3750.0    male  2007  \n",
       "1         3800.0  female  2007  \n",
       "2         3250.0  female  2007  \n",
       "3            NaN     NaN  2007  \n",
       "4         3450.0  female  2007  \n",
       "..           ...     ...   ...  \n",
       "297       3400.0    male  2007  \n",
       "298       2900.0  female  2007  \n",
       "299       3800.0    male  2007  \n",
       "300       3300.0  female  2007  \n",
       "301       4150.0    male  2007  \n",
       "\n",
       "[110 rows x 8 columns]"
      ]
     },
     "execution_count": 29,
     "metadata": {},
     "output_type": "execute_result"
    }
   ],
   "source": [
    "penguin_2007"
   ]
  },
  {
   "cell_type": "code",
   "execution_count": 30,
   "id": "c4a09964-5089-43a0-8294-e5f91b1fbcee",
   "metadata": {},
   "outputs": [],
   "source": [
    "island_counts = penguin_2007.groupby(\"island\").size()"
   ]
  },
  {
   "cell_type": "code",
   "execution_count": 31,
   "id": "daeef65e-6848-42ad-8b41-77d3aed56e12",
   "metadata": {},
   "outputs": [
    {
     "data": {
      "text/plain": [
       "island\n",
       "Biscoe       44\n",
       "Dream        46\n",
       "Torgersen    20\n",
       "dtype: int64"
      ]
     },
     "execution_count": 31,
     "metadata": {},
     "output_type": "execute_result"
    }
   ],
   "source": [
    "island_counts "
   ]
  },
  {
   "cell_type": "markdown",
   "id": "f29ec54d-d37e-4c85-8d6b-ae0b060e43b0",
   "metadata": {},
   "source": [
    "<h2>\"Insight 6: The island that has the most penguins in 2007 is Dream \"</h2>"
   ]
  },
  {
   "cell_type": "markdown",
   "id": "d5de168b-5223-43b0-a3ec-a5785a7993bd",
   "metadata": {},
   "source": [
    "<h1>What is the overall body mass of penguins in 2009?</h1>"
   ]
  },
  {
   "cell_type": "code",
   "execution_count": 32,
   "id": "ae3abb37-a515-4162-b129-3a3ce4009b78",
   "metadata": {},
   "outputs": [],
   "source": [
    "penguins_2009 = penguin[penguin[\"year\"] == 2009] "
   ]
  },
  {
   "cell_type": "code",
   "execution_count": 33,
   "id": "0ad8b01b-af87-4d9b-ac40-c86282b87a07",
   "metadata": {},
   "outputs": [],
   "source": [
    "total_mass = penguins_2009[\"body_mass_g\"].sum()"
   ]
  },
  {
   "cell_type": "code",
   "execution_count": 34,
   "id": "84ceeae7-d202-469b-b15f-e33401819c3c",
   "metadata": {},
   "outputs": [
    {
     "data": {
      "text/plain": [
       "501025.0"
      ]
     },
     "execution_count": 34,
     "metadata": {},
     "output_type": "execute_result"
    }
   ],
   "source": [
    "total_mass"
   ]
  },
  {
   "cell_type": "markdown",
   "id": "c7424366-3e3a-43ea-a46b-2c8a04957a04",
   "metadata": {},
   "source": [
    "<h2>\"Insight 7: The overall body mass of penguins in 2009 is 501025.0\"</h2>"
   ]
  },
  {
   "cell_type": "markdown",
   "id": "6323f683-0963-450f-ac46-10c27fc2961a",
   "metadata": {},
   "source": [
    "<h1>WHAT SPECIE HAS THE LARGER NUMBER IN 2007? </h1>"
   ]
  },
  {
   "cell_type": "code",
   "execution_count": 35,
   "id": "db982cec-6a0b-4358-ab2a-e130ddf0e6dc",
   "metadata": {},
   "outputs": [],
   "source": [
    "penguins_2007 = penguin[penguin[\"year\"] == 2007] "
   ]
  },
  {
   "cell_type": "code",
   "execution_count": 36,
   "id": "a0b5c2d0-2cc5-4007-b02b-cc0ccf6a8ee8",
   "metadata": {},
   "outputs": [
    {
     "data": {
      "text/html": [
       "<div>\n",
       "<style scoped>\n",
       "    .dataframe tbody tr th:only-of-type {\n",
       "        vertical-align: middle;\n",
       "    }\n",
       "\n",
       "    .dataframe tbody tr th {\n",
       "        vertical-align: top;\n",
       "    }\n",
       "\n",
       "    .dataframe thead th {\n",
       "        text-align: right;\n",
       "    }\n",
       "</style>\n",
       "<table border=\"1\" class=\"dataframe\">\n",
       "  <thead>\n",
       "    <tr style=\"text-align: right;\">\n",
       "      <th></th>\n",
       "      <th>species</th>\n",
       "      <th>island</th>\n",
       "      <th>bill_length_mm</th>\n",
       "      <th>bill_depth_mm</th>\n",
       "      <th>flipper_length_mm</th>\n",
       "      <th>body_mass_g</th>\n",
       "      <th>sex</th>\n",
       "      <th>year</th>\n",
       "    </tr>\n",
       "  </thead>\n",
       "  <tbody>\n",
       "    <tr>\n",
       "      <th>0</th>\n",
       "      <td>Adelie</td>\n",
       "      <td>Torgersen</td>\n",
       "      <td>39.10000</td>\n",
       "      <td>18.7</td>\n",
       "      <td>181.0</td>\n",
       "      <td>3750.0</td>\n",
       "      <td>male</td>\n",
       "      <td>2007</td>\n",
       "    </tr>\n",
       "    <tr>\n",
       "      <th>1</th>\n",
       "      <td>Adelie</td>\n",
       "      <td>Torgersen</td>\n",
       "      <td>39.50000</td>\n",
       "      <td>17.4</td>\n",
       "      <td>186.0</td>\n",
       "      <td>3800.0</td>\n",
       "      <td>female</td>\n",
       "      <td>2007</td>\n",
       "    </tr>\n",
       "    <tr>\n",
       "      <th>2</th>\n",
       "      <td>Adelie</td>\n",
       "      <td>Torgersen</td>\n",
       "      <td>40.30000</td>\n",
       "      <td>18.0</td>\n",
       "      <td>195.0</td>\n",
       "      <td>3250.0</td>\n",
       "      <td>female</td>\n",
       "      <td>2007</td>\n",
       "    </tr>\n",
       "    <tr>\n",
       "      <th>3</th>\n",
       "      <td>Adelie</td>\n",
       "      <td>Torgersen</td>\n",
       "      <td>43.92193</td>\n",
       "      <td>NaN</td>\n",
       "      <td>NaN</td>\n",
       "      <td>NaN</td>\n",
       "      <td>NaN</td>\n",
       "      <td>2007</td>\n",
       "    </tr>\n",
       "    <tr>\n",
       "      <th>4</th>\n",
       "      <td>Adelie</td>\n",
       "      <td>Torgersen</td>\n",
       "      <td>36.70000</td>\n",
       "      <td>19.3</td>\n",
       "      <td>193.0</td>\n",
       "      <td>3450.0</td>\n",
       "      <td>female</td>\n",
       "      <td>2007</td>\n",
       "    </tr>\n",
       "    <tr>\n",
       "      <th>...</th>\n",
       "      <td>...</td>\n",
       "      <td>...</td>\n",
       "      <td>...</td>\n",
       "      <td>...</td>\n",
       "      <td>...</td>\n",
       "      <td>...</td>\n",
       "      <td>...</td>\n",
       "      <td>...</td>\n",
       "    </tr>\n",
       "    <tr>\n",
       "      <th>297</th>\n",
       "      <td>Chinstrap</td>\n",
       "      <td>Dream</td>\n",
       "      <td>48.50000</td>\n",
       "      <td>17.5</td>\n",
       "      <td>191.0</td>\n",
       "      <td>3400.0</td>\n",
       "      <td>male</td>\n",
       "      <td>2007</td>\n",
       "    </tr>\n",
       "    <tr>\n",
       "      <th>298</th>\n",
       "      <td>Chinstrap</td>\n",
       "      <td>Dream</td>\n",
       "      <td>43.20000</td>\n",
       "      <td>16.6</td>\n",
       "      <td>187.0</td>\n",
       "      <td>2900.0</td>\n",
       "      <td>female</td>\n",
       "      <td>2007</td>\n",
       "    </tr>\n",
       "    <tr>\n",
       "      <th>299</th>\n",
       "      <td>Chinstrap</td>\n",
       "      <td>Dream</td>\n",
       "      <td>50.60000</td>\n",
       "      <td>19.4</td>\n",
       "      <td>193.0</td>\n",
       "      <td>3800.0</td>\n",
       "      <td>male</td>\n",
       "      <td>2007</td>\n",
       "    </tr>\n",
       "    <tr>\n",
       "      <th>300</th>\n",
       "      <td>Chinstrap</td>\n",
       "      <td>Dream</td>\n",
       "      <td>46.70000</td>\n",
       "      <td>17.9</td>\n",
       "      <td>195.0</td>\n",
       "      <td>3300.0</td>\n",
       "      <td>female</td>\n",
       "      <td>2007</td>\n",
       "    </tr>\n",
       "    <tr>\n",
       "      <th>301</th>\n",
       "      <td>Chinstrap</td>\n",
       "      <td>Dream</td>\n",
       "      <td>52.00000</td>\n",
       "      <td>19.0</td>\n",
       "      <td>197.0</td>\n",
       "      <td>4150.0</td>\n",
       "      <td>male</td>\n",
       "      <td>2007</td>\n",
       "    </tr>\n",
       "  </tbody>\n",
       "</table>\n",
       "<p>110 rows × 8 columns</p>\n",
       "</div>"
      ],
      "text/plain": [
       "       species     island  bill_length_mm  bill_depth_mm  flipper_length_mm  \\\n",
       "0       Adelie  Torgersen        39.10000           18.7              181.0   \n",
       "1       Adelie  Torgersen        39.50000           17.4              186.0   \n",
       "2       Adelie  Torgersen        40.30000           18.0              195.0   \n",
       "3       Adelie  Torgersen        43.92193            NaN                NaN   \n",
       "4       Adelie  Torgersen        36.70000           19.3              193.0   \n",
       "..         ...        ...             ...            ...                ...   \n",
       "297  Chinstrap      Dream        48.50000           17.5              191.0   \n",
       "298  Chinstrap      Dream        43.20000           16.6              187.0   \n",
       "299  Chinstrap      Dream        50.60000           19.4              193.0   \n",
       "300  Chinstrap      Dream        46.70000           17.9              195.0   \n",
       "301  Chinstrap      Dream        52.00000           19.0              197.0   \n",
       "\n",
       "     body_mass_g     sex  year  \n",
       "0         3750.0    male  2007  \n",
       "1         3800.0  female  2007  \n",
       "2         3250.0  female  2007  \n",
       "3            NaN     NaN  2007  \n",
       "4         3450.0  female  2007  \n",
       "..           ...     ...   ...  \n",
       "297       3400.0    male  2007  \n",
       "298       2900.0  female  2007  \n",
       "299       3800.0    male  2007  \n",
       "300       3300.0  female  2007  \n",
       "301       4150.0    male  2007  \n",
       "\n",
       "[110 rows x 8 columns]"
      ]
     },
     "execution_count": 36,
     "metadata": {},
     "output_type": "execute_result"
    }
   ],
   "source": [
    "penguin_2007"
   ]
  },
  {
   "cell_type": "markdown",
   "id": "1982d45b-a006-49d7-aaba-ff5a3865f054",
   "metadata": {},
   "source": [
    "<h2>\"Insight 8: The specie that has the larger number in 2007 is Chinstrap\"</h2>"
   ]
  },
  {
   "cell_type": "markdown",
   "id": "dcb26fb8-c7ba-41a5-800a-63d9a97bc5de",
   "metadata": {},
   "source": [
    "<h1>HOW MANY FEMALE PENGUINS IS THERE IN THE ISLAND OF BISCOE?</h1>"
   ]
  },
  {
   "cell_type": "code",
   "execution_count": 37,
   "id": "55e49f5e-0c8a-44a9-b0b2-ca683fd63bbb",
   "metadata": {},
   "outputs": [],
   "source": [
    "female = penguin.groupby(['species','island', 'sex'], observed=True).size()"
   ]
  },
  {
   "cell_type": "code",
   "execution_count": 38,
   "id": "f51279f0-00c4-47fd-977f-79a211ad2344",
   "metadata": {},
   "outputs": [
    {
     "data": {
      "text/plain": [
       "species    island     sex   \n",
       "Adelie     Biscoe     female    22\n",
       "                      male      22\n",
       "           Dream      female    27\n",
       "                      male      28\n",
       "           Torgersen  female    24\n",
       "                      male      23\n",
       "Chinstrap  Dream      female    34\n",
       "                      male      34\n",
       "Gentoo     Biscoe     female    58\n",
       "                      male      61\n",
       "dtype: int64"
      ]
     },
     "execution_count": 38,
     "metadata": {},
     "output_type": "execute_result"
    }
   ],
   "source": [
    "female"
   ]
  },
  {
   "cell_type": "markdown",
   "id": "fe0641b0-e17c-4150-8261-e8299e993faa",
   "metadata": {},
   "source": [
    "<h2>\"Insight 9: The female penguins in Biscoe islands is 22\"</h2>"
   ]
  },
  {
   "cell_type": "markdown",
   "id": "6eb8947b-3840-4a37-8433-f271d5d3659a",
   "metadata": {},
   "source": [
    "<h1>What is the overall body mass of penguins in 2008?</h1>"
   ]
  },
  {
   "cell_type": "code",
   "execution_count": 39,
   "id": "baaecc03-c9ad-4ccd-9297-624764f70b9e",
   "metadata": {},
   "outputs": [],
   "source": [
    "penguins_2008 = penguin[penguin[\"year\"] == 2008] "
   ]
  },
  {
   "cell_type": "code",
   "execution_count": 40,
   "id": "7ef3c073-dbdd-407b-8b2d-a93e234a31c8",
   "metadata": {},
   "outputs": [],
   "source": [
    "ttl_mss = penguins_2008[\"body_mass_g\"].sum()"
   ]
  },
  {
   "cell_type": "code",
   "execution_count": 41,
   "id": "37f96eb0-9d42-425a-a290-b015988e2113",
   "metadata": {},
   "outputs": [
    {
     "data": {
      "text/plain": [
       "486400.0"
      ]
     },
     "execution_count": 41,
     "metadata": {},
     "output_type": "execute_result"
    }
   ],
   "source": [
    "ttl_mss"
   ]
  },
  {
   "cell_type": "markdown",
   "id": "0cf9cc2c-cb8d-445d-a040-edfef62585fa",
   "metadata": {},
   "source": [
    "<h2>Insight 10: The overall body mass of penguins in 2008 is 486400.0</h2>"
   ]
  },
  {
   "cell_type": "markdown",
   "id": "f2b978ce-47f6-4914-8b97-1e2b1e43e40a",
   "metadata": {},
   "source": [
    "<h1>What is the overall body mass of all specie?</h1>"
   ]
  },
  {
   "cell_type": "code",
   "execution_count": 50,
   "id": "85b8636e-4a63-4693-9200-511d9d7bcd7c",
   "metadata": {},
   "outputs": [],
   "source": [
    "all_bdymss = penguin['body_mass_g'].sum()"
   ]
  },
  {
   "cell_type": "code",
   "execution_count": 51,
   "id": "7e6d6886-3542-4620-bafb-956809408f8d",
   "metadata": {},
   "outputs": [
    {
     "data": {
      "text/plain": [
       "1437000.0"
      ]
     },
     "execution_count": 51,
     "metadata": {},
     "output_type": "execute_result"
    }
   ],
   "source": [
    "all_bdymss"
   ]
  },
  {
   "cell_type": "markdown",
   "id": "f96c16b7-e39a-4136-8e03-d0b430eed4cb",
   "metadata": {},
   "source": [
    "<h2>Insight 11: The Total of Body mass of all penguins is 1437000.0</h2>"
   ]
  },
  {
   "cell_type": "markdown",
   "id": "a9ae49bc-04f3-44a1-9fb8-fb9e7181a115",
   "metadata": {},
   "source": [
    "<h1>what is the overall total number of all specie?</h1>"
   ]
  },
  {
   "cell_type": "code",
   "execution_count": null,
   "id": "c6c56383-9fd6-4844-8e19-8c53089a69a2",
   "metadata": {},
   "outputs": [],
   "source": [
    "adelie_df = penguin[penguin['species'] == \"adelie\"]"
   ]
  },
  {
   "cell_type": "code",
   "execution_count": 61,
   "id": "5d4c7acb-2fb5-430c-a138-6aa1bded4ee2",
   "metadata": {},
   "outputs": [
    {
     "data": {
      "text/plain": [
       "island\n",
       "Biscoe       168\n",
       "Dream        124\n",
       "Torgersen     52\n",
       "Name: count, dtype: int64"
      ]
     },
     "execution_count": 61,
     "metadata": {},
     "output_type": "execute_result"
    }
   ],
   "source": [
    "penguin['island'].value_counts()"
   ]
  },
  {
   "cell_type": "markdown",
   "id": "077f4379-9c79-4218-b997-0d0d6814806e",
   "metadata": {},
   "source": [
    "<h2>Insight 12: According from the given data above, it shows that the total number of species from various island starts from Biscoe is 168, tyhen 124 from Dream, while Torgesen has a least number which is 52</h2>"
   ]
  },
  {
   "cell_type": "code",
   "execution_count": null,
   "id": "9c6d5a5f-cf70-42b4-a93c-58ad96ef887e",
   "metadata": {},
   "outputs": [],
   "source": []
  }
 ],
 "metadata": {
  "kernelspec": {
   "display_name": "Python 3 (ipykernel)",
   "language": "python",
   "name": "python3"
  },
  "language_info": {
   "codemirror_mode": {
    "name": "ipython",
    "version": 3
   },
   "file_extension": ".py",
   "mimetype": "text/x-python",
   "name": "python",
   "nbconvert_exporter": "python",
   "pygments_lexer": "ipython3",
   "version": "3.11.3"
  }
 },
 "nbformat": 4,
 "nbformat_minor": 5
}
